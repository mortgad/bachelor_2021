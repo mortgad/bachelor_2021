{
  "nbformat": 4,
  "nbformat_minor": 0,
  "metadata": {
    "accelerator": "GPU",
    "colab": {
      "name": "ML_google_colab.ipynb",
      "provenance": [],
      "collapsed_sections": []
    },
    "kernelspec": {
      "display_name": "Python 3",
      "name": "python3"
    },
    "language_info": {
      "name": "python"
    }
  },
  "cells": [
    {
      "cell_type": "code",
      "metadata": {
        "id": "F1rjNWajfU_J"
      },
      "source": [
        "# Checking if connected to the GPU\n",
        "\n",
        "%tensorflow_version 2.x\n",
        "import tensorflow as tf\n",
        "device_name = tf.test.gpu_device_name()\n",
        "if device_name != '/device:GPU:0':\n",
        "  raise SystemError('GPU device not found')\n",
        "print('Found GPU at: {}'.format(device_name))"
      ],
      "execution_count": null,
      "outputs": []
    },
    {
      "cell_type": "code",
      "metadata": {
        "id": "ofPNe8COfE97"
      },
      "source": [
        "# Importing libraries\n",
        "import pandas as pd\n",
        "import matplotlib.pylab as plt\n",
        "import numpy as np\n",
        "import time\n",
        "from google.colab import files\n",
        "\n",
        "# scikit learn packages \n",
        "from sklearn.feature_extraction.text import TfidfVectorizer # vectorizer\n",
        "from sklearn.model_selection import train_test_split # For splitting into test and train data\n",
        "from sklearn.linear_model import SGDClassifier # SGD classifier - better model for classification\n",
        "from sklearn.pipeline import Pipeline # Pipeline framework\n",
        "from sklearn.metrics import make_scorer, precision_score, recall_score, accuracy_score, cohen_kappa_score\n",
        "from sklearn.model_selection import GridSearchCV, cross_validate, StratifiedKFold"
      ],
      "execution_count": null,
      "outputs": []
    },
    {
      "cell_type": "code",
      "metadata": {
        "id": "bHcg_Z6p20x8"
      },
      "source": [
        "# Python Program to Convert seconds\n",
        "# into hours, minutes and seconds\n",
        "  \n",
        "def convert(seconds):\n",
        "    seconds = seconds % (24 * 3600)\n",
        "    hour = seconds // 3600\n",
        "    seconds %= 3600\n",
        "    minutes = seconds // 60\n",
        "    seconds %= 60\n",
        "\n",
        "    if hour == 0:\n",
        "      return \"%02d:%02d\" % (minutes, seconds)\n",
        "    else:\n",
        "      return \"%d:%02d:%02d\" % (hour, minutes, seconds)"
      ],
      "execution_count": null,
      "outputs": []
    },
    {
      "cell_type": "code",
      "metadata": {
        "id": "iFS_2Xp_feVk"
      },
      "source": [
        "# Path to the data\n",
        "filepath = \"https://github.com/ghelms/data/blob/master/folketinget_2009_2021_raw.csv?raw=true\"\n",
        "# Importing data - only a subset \n",
        "df = pd.read_csv(filepath)"
      ],
      "execution_count": null,
      "outputs": []
    },
    {
      "cell_type": "code",
      "metadata": {
        "colab": {
          "base_uri": "https://localhost:8080/"
        },
        "id": "HIifbxNJi4H4",
        "outputId": "65af2dd2-054e-42cd-cc7a-0631e2f75487"
      },
      "source": [
        "df['Parti'].value_counts()"
      ],
      "execution_count": null,
      "outputs": [
        {
          "output_type": "execute_result",
          "data": {
            "text/plain": [
              "Socialdemokratiet              53025\n",
              "Venstre                        48875\n",
              "Dansk Folkeparti               41183\n",
              "Enhedslisten                   31244\n",
              "Socialistisk Folkeparti        20085\n",
              "Det Konservative Folkeparti    15040\n",
              "Radikale Venstre               13350\n",
              "Liberal Alliance               12527\n",
              "Alternativet                    7325\n",
              "Nye Borgerlige                  3311\n",
              "Det Radikale Venstre            2239\n",
              "Uden for partierne               587\n",
              "Fremskridtspartiet               553\n",
              "Ny Alliance                      470\n",
              "Konservative Folkeparti          102\n",
              "Venstresocialisterne              19\n",
              "Name: Parti, dtype: int64"
            ]
          },
          "metadata": {},
          "execution_count": 5
        }
      ]
    },
    {
      "cell_type": "code",
      "metadata": {
        "id": "pr6-jL8Tv8yX"
      },
      "source": [
        "# Removing irrelevant parties and changing the names\n",
        "# Fixing name bug\n",
        "df[\"Parti\"] = df[\"Parti\"].replace([\"Konservative Folkeparti\"], [\"Det Konservative Folkeparti\"])\n",
        "\n",
        "# Removing parties\n",
        "list_of_parties_to_remove = [\"Uden for partierne\", \"Venstresocialisterne\"]\n",
        "df = df[~df[\"Parti\"].isin(list_of_parties_to_remove)]"
      ],
      "execution_count": null,
      "outputs": []
    },
    {
      "cell_type": "code",
      "metadata": {
        "colab": {
          "base_uri": "https://localhost:8080/"
        },
        "id": "99j6Mkn3u2Wn",
        "outputId": "306469e9-fd98-46b1-b853-2850c06c425e"
      },
      "source": [
        "df['Parti'].value_counts()"
      ],
      "execution_count": null,
      "outputs": [
        {
          "output_type": "execute_result",
          "data": {
            "text/plain": [
              "Socialdemokratiet              53025\n",
              "Venstre                        48875\n",
              "Dansk Folkeparti               41183\n",
              "Enhedslisten                   31244\n",
              "Socialistisk Folkeparti        20085\n",
              "Det Konservative Folkeparti    15142\n",
              "Radikale Venstre               13350\n",
              "Liberal Alliance               12527\n",
              "Alternativet                    7325\n",
              "Nye Borgerlige                  3311\n",
              "Det Radikale Venstre            2239\n",
              "Fremskridtspartiet               553\n",
              "Ny Alliance                      470\n",
              "Name: Parti, dtype: int64"
            ]
          },
          "metadata": {},
          "execution_count": 7
        }
      ]
    },
    {
      "cell_type": "markdown",
      "metadata": {
        "id": "Z28pwpy8jXea"
      },
      "source": [
        "# Implementing the pipeline"
      ]
    },
    {
      "cell_type": "code",
      "metadata": {
        "id": "pahTRVWPjc2J"
      },
      "source": [
        "# Defining the pipe\n",
        "pipe = Pipeline([\n",
        "('vect', TfidfVectorizer(ngram_range=(1,2))),\n",
        "('SGD', SGDClassifier(loss='log', \n",
        "                      penalty='l2', \n",
        "                      shuffle=True,\n",
        "                      alpha=1e-2,\n",
        "                      class_weight = 'balanced'))])\n",
        "\n",
        "grid = GridSearchCV(estimator = pipe,\n",
        "                        param_grid = {'SGD__alpha': (1e-3, 1e-4, 1e-5, 1e-6, 1e-7)},\n",
        "                        cv=20, # number of cross validations\n",
        "                        scoring={'kappa_score': make_scorer(cohen_kappa_score)},\n",
        "                        refit='kappa_score',\n",
        "                        n_jobs=2)"
      ],
      "execution_count": null,
      "outputs": []
    },
    {
      "cell_type": "code",
      "metadata": {
        "colab": {
          "base_uri": "https://localhost:8080/"
        },
        "id": "IaZBZz0Rjf3-",
        "outputId": "913e8076-3032-455b-9eb6-b72af34c6485"
      },
      "source": [
        "# Creating data frame to append to\n",
        "cv_results = pd.DataFrame(columns = [\"Year\",\"k_fold\",\"alpha\",\"accuracy_score\",\n",
        "                                     \"precision_score\",\"recall_score\",\"kappa_train\", \n",
        "                                     \"kappa_test\", \"y_test\",\"y_pred\"])\n",
        "# Define number of folds\n",
        "n_folds = 5\n",
        "\n",
        "# Timing the loop\n",
        "start_time = time.time()\n",
        "\n",
        "for year in sorted(df.Year.unique()):\n",
        "    print(\"Year: {}\".format(year))\n",
        "\n",
        "    # Timing the loop\n",
        "    start_of_loop = time.time()\n",
        "\n",
        "    # Subsetting the data pr. year\n",
        "    session_data = df[df['Year'] == year]\n",
        "    \n",
        "    # Defining the folds\n",
        "    skf = StratifiedKFold(n_splits=n_folds,shuffle=True,random_state = 1234)\n",
        "    \n",
        "    # Looping through each fold. \n",
        "    for i, (train_index, test_index) in enumerate(skf.split(session_data, session_data[\"Parti\"].values)):\n",
        "\n",
        "        # Start time for fold\n",
        "        start_fold_time = time.time()\n",
        "\n",
        "        # Dividing into train and test set\n",
        "        train = session_data.iloc[train_index]\n",
        "        test = session_data.iloc[test_index]\n",
        "\n",
        "        # Giving labels \n",
        "        X_train, y_train = train[\"text\"], train[\"Parti\"]\n",
        "        X_test, y_test = test[\"text\"], test[\"Parti\"]\n",
        "\n",
        "        # Fitting the grid\n",
        "        print(\"Fitting the grid for year: {} and fold {}\".format(year, i+1))\n",
        "        grid.fit(X_train, y_train)\n",
        "\n",
        "        # save best kappa score and params generating that score\n",
        "        kappa_train = grid.best_score_\n",
        "        alpha = grid.best_params_.get(\"SGD__alpha\")\n",
        "\n",
        "        # metrics on test set\n",
        "        print(\"Predicting and extracting scores\")\n",
        "        y_pred = grid.predict(X_test)\n",
        "        accuracy = accuracy_score(y_test, y_pred)\n",
        "        precision = precision_score(y_test, y_pred, average='weighted')\n",
        "        recall = recall_score(y_test, y_pred, average='weighted')\n",
        "        kappa_test = cohen_kappa_score(y_test, y_pred)\n",
        "\n",
        "        # Adding the values to a dictionary\n",
        "        hep = {\"Year\": year, \"k_fold\": i+1, \"alpha\": alpha, \"accuracy_score\": accuracy, \n",
        "               \"precision_score\": precision, \"recall_score\": recall, \"kappa_train\": kappa_train, \"kappa_test\": kappa_test,\n",
        "              \"y_test\": y_test.tolist(), \"y_pred\": y_pred}\n",
        "                          \n",
        "        # Appending to the final dataframe\n",
        "        cv_results = cv_results.append(hep, ignore_index = True)\n",
        "        \n",
        "        # Printing time stamp\n",
        "        fold_time = convert(time.time() - start_fold_time)\n",
        "        print(\"elapsed time for fold:\", fold_time , \"\\n\")\n",
        "      \n",
        "    # Getting the time\n",
        "    elapsed_time = time.time()\n",
        "    print(\"Run time for year {}: \".format(year), convert(elapsed_time - start_of_loop), \". Total run time: \", convert(elapsed_time - start_of_loop), \"\\n\")\n",
        "        \n",
        "print(\"FINISH\")\n",
        "\n",
        "files.download(\"cv_results.csv\")"
      ],
      "execution_count": null,
      "outputs": [
        {
          "output_type": "stream",
          "name": "stdout",
          "text": [
            "Year: 2009\n",
            "Fitting the grid for year: 2009 and fold 1\n"
          ]
        },
        {
          "output_type": "stream",
          "name": "stderr",
          "text": [
            "/usr/local/lib/python3.7/dist-packages/sklearn/model_selection/_split.py:667: UserWarning: The least populated class in y has only 15 members, which is less than n_splits=20.\n",
            "  % (min_groups, self.n_splits)), UserWarning)\n"
          ]
        },
        {
          "output_type": "stream",
          "name": "stdout",
          "text": [
            "Predicting and extracting scores\n",
            "elapsed time for fold: 07:00 \n",
            "\n",
            "Fitting the grid for year: 2009 and fold 2\n"
          ]
        },
        {
          "output_type": "stream",
          "name": "stderr",
          "text": [
            "/usr/local/lib/python3.7/dist-packages/sklearn/model_selection/_split.py:667: UserWarning: The least populated class in y has only 15 members, which is less than n_splits=20.\n",
            "  % (min_groups, self.n_splits)), UserWarning)\n"
          ]
        },
        {
          "output_type": "stream",
          "name": "stdout",
          "text": [
            "Predicting and extracting scores\n",
            "elapsed time for fold: 06:57 \n",
            "\n",
            "Fitting the grid for year: 2009 and fold 3\n"
          ]
        },
        {
          "output_type": "stream",
          "name": "stderr",
          "text": [
            "/usr/local/lib/python3.7/dist-packages/sklearn/model_selection/_split.py:667: UserWarning: The least populated class in y has only 15 members, which is less than n_splits=20.\n",
            "  % (min_groups, self.n_splits)), UserWarning)\n"
          ]
        },
        {
          "output_type": "stream",
          "name": "stdout",
          "text": [
            "Predicting and extracting scores\n",
            "elapsed time for fold: 07:07 \n",
            "\n",
            "Fitting the grid for year: 2009 and fold 4\n"
          ]
        },
        {
          "output_type": "stream",
          "name": "stderr",
          "text": [
            "/usr/local/lib/python3.7/dist-packages/sklearn/model_selection/_split.py:667: UserWarning: The least populated class in y has only 15 members, which is less than n_splits=20.\n",
            "  % (min_groups, self.n_splits)), UserWarning)\n"
          ]
        },
        {
          "output_type": "stream",
          "name": "stdout",
          "text": [
            "Predicting and extracting scores\n"
          ]
        },
        {
          "output_type": "stream",
          "name": "stderr",
          "text": [
            "/usr/local/lib/python3.7/dist-packages/sklearn/metrics/_classification.py:1272: UndefinedMetricWarning: Precision is ill-defined and being set to 0.0 in labels with no predicted samples. Use `zero_division` parameter to control this behavior.\n",
            "  _warn_prf(average, modifier, msg_start, len(result))\n",
            "/usr/local/lib/python3.7/dist-packages/sklearn/model_selection/_split.py:667: UserWarning: The least populated class in y has only 16 members, which is less than n_splits=20.\n",
            "  % (min_groups, self.n_splits)), UserWarning)\n"
          ]
        },
        {
          "output_type": "stream",
          "name": "stdout",
          "text": [
            "elapsed time for fold: 06:58 \n",
            "\n",
            "Fitting the grid for year: 2009 and fold 5\n",
            "Predicting and extracting scores\n",
            "elapsed time for fold: 06:59 \n",
            "\n",
            "Run time for year 2009:  35:02 . Total run time:  35:02 \n",
            "\n",
            "Year: 2010\n",
            "Fitting the grid for year: 2010 and fold 1\n"
          ]
        },
        {
          "output_type": "stream",
          "name": "stderr",
          "text": [
            "/usr/local/lib/python3.7/dist-packages/joblib/externals/loky/process_executor.py:691: UserWarning: A worker stopped while some jobs were given to the executor. This can be caused by a too short worker timeout or by a memory leak.\n",
            "  \"timeout or by a memory leak.\", UserWarning\n"
          ]
        },
        {
          "output_type": "stream",
          "name": "stdout",
          "text": [
            "Predicting and extracting scores\n",
            "elapsed time for fold: 25:40 \n",
            "\n",
            "Fitting the grid for year: 2010 and fold 2\n"
          ]
        },
        {
          "output_type": "stream",
          "name": "stderr",
          "text": [
            "/usr/local/lib/python3.7/dist-packages/joblib/externals/loky/process_executor.py:691: UserWarning: A worker stopped while some jobs were given to the executor. This can be caused by a too short worker timeout or by a memory leak.\n",
            "  \"timeout or by a memory leak.\", UserWarning\n"
          ]
        },
        {
          "output_type": "stream",
          "name": "stdout",
          "text": [
            "Predicting and extracting scores\n",
            "elapsed time for fold: 24:26 \n",
            "\n",
            "Fitting the grid for year: 2010 and fold 3\n"
          ]
        }
      ]
    },
    {
      "cell_type": "markdown",
      "metadata": {
        "id": "OVQGnWzHuEH5"
      },
      "source": [
        "# Alternative more manual method"
      ]
    },
    {
      "cell_type": "code",
      "metadata": {
        "id": "mH1VQFxkuJtk"
      },
      "source": [
        "# Year to run\n",
        "year = 2010\n",
        "\n",
        "# Creating data frame to append to\n",
        "cv_results = pd.DataFrame(columns = [\"Year\",\"k_fold\",\"alpha\",\"accuracy_score\",\n",
        "                                     \"precision_score\",\"recall_score\",\"kappa_train\", \n",
        "                                     \"kappa_test\", \"y_test\",\"y_pred\"])\n",
        "# Define number of folds\n",
        "n_folds = 5\n",
        "\n",
        "# Timing the loop\n",
        "start_of_loop = time.time()\n",
        "\n",
        "# Subsetting the data pr. year\n",
        "session_data = df[df['Year'] == year][500]\n",
        "    \n",
        "# Defining the folds\n",
        "skf = StratifiedKFold(n_splits=n_folds,shuffle=True,random_state = 1234)\n",
        "\n",
        "# Looping through each fold. \n",
        "for i, (train_index, test_index) in enumerate(skf.split(session_data, session_data[\"Parti\"].values)):\n",
        "\n",
        "    # Start time for fold\n",
        "    start_fold_time = time.time()\n",
        "\n",
        "    # Dividing into train and test set\n",
        "    train = session_data.iloc[train_index]\n",
        "    test = session_data.iloc[test_index]\n",
        "\n",
        "    # Giving labels \n",
        "    X_train, y_train = train[\"text\"], train[\"Parti\"]\n",
        "    X_test, y_test = test[\"text\"], test[\"Parti\"]\n",
        "\n",
        "    # Fitting the grid\n",
        "    print(\"Fitting the grid for year: {} and fold {}\".format(year, i+1))\n",
        "    grid.fit(X_train, y_train)\n",
        "\n",
        "    # save best kappa score and params generating that score\n",
        "    kappa_train = grid.best_score_\n",
        "    alpha = grid.best_params_.get(\"SGD__alpha\")\n",
        "\n",
        "    # metrics on test set\n",
        "    print(\"Predicting and extracting scores\")\n",
        "    y_pred = grid.predict(X_test)\n",
        "    accuracy = accuracy_score(y_test, y_pred)\n",
        "    precision = precision_score(y_test, y_pred, average='weighted')\n",
        "    recall = recall_score(y_test, y_pred, average='weighted')\n",
        "    kappa_test = cohen_kappa_score(y_test, y_pred)\n",
        "\n",
        "    # Adding the values to a dictionary\n",
        "    hep = {\"Year\": year, \"k_fold\": i+1, \"alpha\": alpha, \"accuracy_score\": accuracy, \n",
        "            \"precision_score\": precision, \"recall_score\": recall, \"kappa_train\": kappa_train, \"kappa_test\": kappa_test,\n",
        "            \"y_test\": y_test.tolist(), \"y_pred\": y_pred}\n",
        "                          \n",
        "    # Appending to the final dataframe\n",
        "    cv_results = cv_results.append(hep, ignore_index = True)\n",
        "        \n",
        "    # Printing time stamp\n",
        "    fold_time = convert(time.time() - start_fold_time)\n",
        "    print(\"elapsed time for fold:\", fold_time , \"\\n\")\n",
        "      \n",
        "# Getting the time\n",
        "elapsed_time = time.time()\n",
        "print(\"Run time for year {}: \".format(year), convert(elapsed_time - start_of_loop), \". Total run time: \", convert(elapsed_time - start_of_loop), \"\\n\")\n",
        "\n",
        "cv_results_2010 = cv_results\n",
        "print(\"FINISH\")\n",
        "\n",
        "#files.download(\"cv_results_2010.csv\")"
      ],
      "execution_count": null,
      "outputs": []
    }
  ]
}