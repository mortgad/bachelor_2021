{
 "cells": [
  {
   "cell_type": "code",
   "execution_count": 6,
   "id": "472cf53f",
   "metadata": {},
   "outputs": [],
   "source": [
    "# importing packages\n",
    "\n",
    "import webbrowser"
   ]
  },
  {
   "cell_type": "code",
   "execution_count": 7,
   "id": "be80c71d",
   "metadata": {},
   "outputs": [
    {
     "data": {
      "text/plain": [
       "True"
      ]
     },
     "execution_count": 7,
     "metadata": {},
     "output_type": "execute_result"
    }
   ],
   "source": [
    "# shortcuts in Jupyter Notebooks\n",
    "shortcuts = \"https://towardsdatascience.com/jypyter-notebook-shortcuts-bf0101a98330\"\n",
    "webbrowser.open(shortcuts)"
   ]
  },
  {
   "cell_type": "code",
   "execution_count": 9,
   "id": "4d142964",
   "metadata": {},
   "outputs": [
    {
     "name": "stdout",
     "output_type": "stream",
     "text": [
      "script: /Users/mortengade/political_polarization/SGD_Classifier/print_stuff.py\n"
     ]
    }
   ],
   "source": [
    "# we can run scripts from here as well\n",
    "\n",
    "%run -i 'print_stuff.py'"
   ]
  },
  {
   "cell_type": "code",
   "execution_count": null,
   "id": "c9a0c8a6",
   "metadata": {},
   "outputs": [],
   "source": []
  },
  {
   "cell_type": "code",
   "execution_count": null,
   "id": "a238ce01",
   "metadata": {},
   "outputs": [],
   "source": []
  },
  {
   "cell_type": "code",
   "execution_count": null,
   "id": "0f4a41d4",
   "metadata": {},
   "outputs": [],
   "source": []
  },
  {
   "cell_type": "code",
   "execution_count": null,
   "id": "d5a61135",
   "metadata": {},
   "outputs": [],
   "source": []
  }
 ],
 "metadata": {
  "kernelspec": {
   "display_name": "Python 3 (ipykernel)",
   "language": "python",
   "name": "python3"
  },
  "language_info": {
   "codemirror_mode": {
    "name": "ipython",
    "version": 3
   },
   "file_extension": ".py",
   "mimetype": "text/x-python",
   "name": "python",
   "nbconvert_exporter": "python",
   "pygments_lexer": "ipython3",
   "version": "3.9.2"
  }
 },
 "nbformat": 4,
 "nbformat_minor": 5
}
