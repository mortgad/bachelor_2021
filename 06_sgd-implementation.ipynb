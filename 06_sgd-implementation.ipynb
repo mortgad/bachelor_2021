{
 "cells": [
  {
   "cell_type": "code",
   "execution_count": 3,
   "id": "4e88c9a4",
   "metadata": {
    "id": "4e88c9a4"
   },
   "outputs": [],
   "source": [
    "# Importing libraries\n",
    "import pandas as pd\n",
    "import matplotlib.pylab as plt\n",
    "import numpy as np\n",
    "## test\n",
    "\n",
    "# scikit learn packages \n",
    "from sklearn.feature_extraction.text import TfidfVectorizer # vectorizer\n",
    "from sklearn.model_selection import train_test_split # For splitting into test and train data\n",
    "from sklearn.linear_model import SGDClassifier # SGD classifier - better model for classification\n",
    "from sklearn.pipeline import Pipeline # Pipeline framework\n",
    "from sklearn.metrics import make_scorer, cohen_kappa_score\n",
    "from sklearn.model_selection import GridSearchCV, cross_validate # Library that allows optimization of hyperparameters"
   ]
  },
  {
   "cell_type": "code",
   "execution_count": 4,
   "id": "77ed2d93",
   "metadata": {
    "id": "77ed2d93"
   },
   "outputs": [],
   "source": [
    "# Path to the data\n",
    "#data_ghelms = \"/Users/gustavhelms/Documents/Cognitive Science/5_semester/Bachelor/political_polarization/Folketinget-Scraping/data/folketinget_2019_2021_raw.csv\"\n",
    "data_mrg = \"./data/folketinget_2019_2021_raw.csv\"\n",
    "# Importing data - only a subset \n",
    "#df = pd.read_csv(data_ghelms)\n",
    "df = pd.read_csv(data_mrg)"
   ]
  },
  {
   "cell_type": "code",
   "execution_count": 5,
   "id": "5212b3b3",
   "metadata": {
    "id": "5212b3b3",
    "outputId": "788d7338-030e-4f9b-e79a-2b2454e4dc17"
   },
   "outputs": [
    {
     "data": {
      "text/plain": [
       "Socialdemokratiet              11194\n",
       "Venstre                         9737\n",
       "Dansk Folkeparti                8793\n",
       "Socialistisk Folkeparti         5496\n",
       "Enhedslisten                    5181\n",
       "Radikale Venstre                4044\n",
       "Nye Borgerlige                  3503\n",
       "Det Konservative Folkeparti     2361\n",
       "Alternativet                    2190\n",
       "Liberal Alliance                2150\n",
       "Socialdemokraterne               366\n",
       "Name: Parti, dtype: int64"
      ]
     },
     "execution_count": 5,
     "metadata": {},
     "output_type": "execute_result"
    }
   ],
   "source": [
    "df['Parti'].value_counts()"
   ]
  },
  {
   "cell_type": "markdown",
   "id": "66c676e1",
   "metadata": {
    "id": "66c676e1"
   },
   "source": [
    "# Implementing Pipeline"
   ]
  },
  {
   "cell_type": "code",
   "execution_count": 6,
   "id": "7bfe4f71",
   "metadata": {
    "id": "7bfe4f71"
   },
   "outputs": [],
   "source": [
    "df2019 = df[df['Year'] == 2019][:500]\n",
    "df2020 = df[df['Year'] == 2020][:500]\n",
    "df2021 = df[df['Year'] == 2021][:500]\n",
    "df1500 = pd.concat([df2019, df2020, df2021])"
   ]
  },
  {
   "cell_type": "code",
   "execution_count": 7,
   "id": "e5353fa9",
   "metadata": {
    "id": "e5353fa9"
   },
   "outputs": [],
   "source": [
    "# Splitting data\n",
    "X, y = df1500['text'], df1500['Parti']\n",
    "X_train, X_test, y_train, y_test = train_test_split(X, y, test_size=0.10, random_state=42, stratify = df1500[\"Parti\"])"
   ]
  },
  {
   "cell_type": "code",
   "execution_count": 8,
   "id": "d8208d7c",
   "metadata": {
    "id": "d8208d7c"
   },
   "outputs": [],
   "source": [
    "pipe = Pipeline([\n",
    "('vect', TfidfVectorizer(ngram_range=(1,2))),\n",
    "('SGD', SGDClassifier(loss='log', \n",
    "                      penalty='l2', \n",
    "                      shuffle=True,\n",
    "                      alpha=1e-2,\n",
    "                      class_weight = 'balanced'))])\n",
    "\n",
    "grid = GridSearchCV(estimator = pipe,\n",
    "                        param_grid = {'SGD__alpha': (1e-2, 1e-3, 1e-4, 1e-5, 1e-6, 1e-7, 1e-8)},\n",
    "                        cv=20, # number of cross validations\n",
    "                        scoring={'kappa_score': make_scorer(cohen_kappa_score)},\n",
    "                        refit='kappa_score',\n",
    "                        n_jobs=2)"
   ]
  },
  {
   "cell_type": "code",
   "execution_count": 9,
   "id": "9b6b3e7a",
   "metadata": {
    "id": "9b6b3e7a",
    "outputId": "6f337589-7300-4ee6-9b58-0e21c3519cdc"
   },
   "outputs": [
    {
     "data": {
      "text/plain": [
       "GridSearchCV(cv=20,\n",
       "             estimator=Pipeline(steps=[('vect',\n",
       "                                        TfidfVectorizer(ngram_range=(1, 2))),\n",
       "                                       ('SGD',\n",
       "                                        SGDClassifier(alpha=0.01,\n",
       "                                                      class_weight='balanced',\n",
       "                                                      loss='log'))]),\n",
       "             n_jobs=2,\n",
       "             param_grid={'SGD__alpha': (0.01, 0.001, 0.0001, 1e-05, 1e-06,\n",
       "                                        1e-07, 1e-08)},\n",
       "             refit='kappa_score',\n",
       "             scoring={'kappa_score': make_scorer(cohen_kappa_score)})"
      ]
     },
     "execution_count": 9,
     "metadata": {},
     "output_type": "execute_result"
    }
   ],
   "source": [
    "# fitting hyper parameters\n",
    "grid.fit(X_train, y_train)"
   ]
  },
  {
   "cell_type": "code",
   "execution_count": 10,
   "id": "7bfe5479",
   "metadata": {
    "id": "7bfe5479",
    "outputId": "6db35917-b9ac-4cc3-b1b7-e8d7b5645a2a"
   },
   "outputs": [
    {
     "data": {
      "image/png": "[encoded data removed]",
      "text/plain": [
       "<Figure size 432x288 with 2 Axes>"
      ]
     },
     "metadata": {
      "needs_background": "light"
     },
     "output_type": "display_data"
    }
   ],
   "source": [
    "# Confusion matrix\n",
    "from sklearn.metrics import confusion_matrix, plot_confusion_matrix\n",
    "plot_confusion_matrix(grid, X_test, y_test)\n",
    "plt.show()"
   ]
  },
  {
   "cell_type": "code",
   "execution_count": 13,
   "id": "d049e983",
   "metadata": {
    "id": "d049e983",
    "outputId": "0729eb60-4828-4a3b-d224-381edecc2651"
   },
   "outputs": [],
   "source": [
    "# inspect results\n",
    "results = pd.DataFrame(grid.cv_results_)"
   ]
  },
  {
   "cell_type": "code",
   "execution_count": 17,
   "id": "72545435",
   "metadata": {},
   "outputs": [
    {
     "data": {
      "text/plain": [
       "0    0.268127\n",
       "1    0.714437\n",
       "2    0.796004\n",
       "3    0.811624\n",
       "4    0.830780\n",
       "5    0.813398\n",
       "6    0.806569\n",
       "Name: mean_test_kappa_score, dtype: float64"
      ]
     },
     "execution_count": 17,
     "metadata": {},
     "output_type": "execute_result"
    }
   ],
   "source": [
    "results['mean_test_kappa_score']"
   ]
  },
  {
   "cell_type": "code",
   "execution_count": 16,
   "id": "fd30bd78",
   "metadata": {},
   "outputs": [
    {
     "data": {
      "text/plain": [
       "Index(['mean_fit_time', 'std_fit_time', 'mean_score_time', 'std_score_time',\n",
       "       'param_SGD__alpha', 'params', 'split0_test_kappa_score',\n",
       "       'split1_test_kappa_score', 'split2_test_kappa_score',\n",
       "       'split3_test_kappa_score', 'split4_test_kappa_score',\n",
       "       'split5_test_kappa_score', 'split6_test_kappa_score',\n",
       "       'split7_test_kappa_score', 'split8_test_kappa_score',\n",
       "       'split9_test_kappa_score', 'split10_test_kappa_score',\n",
       "       'split11_test_kappa_score', 'split12_test_kappa_score',\n",
       "       'split13_test_kappa_score', 'split14_test_kappa_score',\n",
       "       'split15_test_kappa_score', 'split16_test_kappa_score',\n",
       "       'split17_test_kappa_score', 'split18_test_kappa_score',\n",
       "       'split19_test_kappa_score', 'mean_test_kappa_score',\n",
       "       'std_test_kappa_score', 'rank_test_kappa_score'],\n",
       "      dtype='object')"
      ]
     },
     "execution_count": 16,
     "metadata": {},
     "output_type": "execute_result"
    }
   ],
   "source": [
    "cols"
   ]
  },
  {
   "cell_type": "code",
   "execution_count": null,
   "id": "adeef58e",
   "metadata": {
    "id": "adeef58e",
    "outputId": "36c65107-d816-4659-8488-de2867547405"
   },
   "outputs": [
    {
     "data": {
      "text/plain": [
       "{'Alternativet',\n",
       " 'Dansk Folkeparti',\n",
       " 'Det Konservative Folkeparti',\n",
       " 'Enhedslisten',\n",
       " 'Liberal Alliance',\n",
       " 'Nye Borgerlige',\n",
       " 'Radikale Venstre',\n",
       " 'Socialdemokraterne',\n",
       " 'Socialdemokratiet',\n",
       " 'Socialistisk Folkeparti',\n",
       " 'Venstre'}"
      ]
     },
     "execution_count": 59,
     "metadata": {},
     "output_type": "execute_result"
    }
   ],
   "source": [
    "set(df['Parti'])"
   ]
  },
  {
   "cell_type": "code",
   "execution_count": null,
   "id": "28e1b9c3",
   "metadata": {
    "id": "28e1b9c3"
   },
   "outputs": [],
   "source": [
    "# loop through years and fit/predict per year, append scores and so on\n",
    "\n",
    "best_scores = []\n",
    "best_params = []\n",
    "precision_scores = []\n",
    "accuracy_scores = []\n",
    "\n",
    "for year in df.Year.unique():\n",
    "    subset = df[df['Year'] == year][:1000]\n",
    "    X, y = subset[\"text\"], subset[\"Parti\"]\n",
    "    X_train, X_test, y_train, y_test = train_test_split(X, y, test_size=0.10, random_state=42, stratify = subset[\"Parti\"])\n",
    "    grid_SGD.fit(X_train, y_train)\n",
    "    df_train = pd.DataFrame(grid_SGD.cv_results_)\n",
    "    plt.legend()\n",
    "    \n",
    "    # save best kappa score and params generating that score\n",
    "    best_scores.append(grid_SGD.best_score_)\n",
    "    best_params.append(grid_SGD.best_params_)\n",
    "    \n",
    "    # metrics on test set\n",
    "    y_pred = grid_SGD.predict(X_test)\n",
    "    accuracy_scores.append(accuracy_score(y_test, y_pred))\n",
    "    precision_scores.append(precision_score(y_test, y_pred, average='weighted'))"
   ]
  },
  {
   "cell_type": "code",
   "execution_count": null,
   "id": "a8f6b271",
   "metadata": {
    "id": "a8f6b271"
   },
   "outputs": [],
   "source": []
  },
  {
   "cell_type": "code",
   "execution_count": null,
   "id": "0ab2467e",
   "metadata": {
    "id": "0ab2467e"
   },
   "outputs": [],
   "source": []
  },
  {
   "cell_type": "code",
   "execution_count": null,
   "id": "dd353910",
   "metadata": {
    "id": "dd353910"
   },
   "outputs": [],
   "source": []
  },
  {
   "cell_type": "code",
   "execution_count": null,
   "id": "86140669",
   "metadata": {
    "id": "86140669"
   },
   "outputs": [],
   "source": []
  },
  {
   "cell_type": "code",
   "execution_count": null,
   "id": "e987cb00",
   "metadata": {
    "id": "e987cb00"
   },
   "outputs": [],
   "source": []
  }
 ],
 "metadata": {
  "colab": {
   "name": "06_sgd-implementation.ipynb",
   "provenance": []
  },
  "kernelspec": {
   "display_name": "Python 3 (ipykernel)",
   "language": "python",
   "name": "python3"
  },
  "language_info": {
   "codemirror_mode": {
    "name": "ipython",
    "version": 3
   },
   "file_extension": ".py",
   "mimetype": "text/x-python",
   "name": "python",
   "nbconvert_exporter": "python",
   "pygments_lexer": "ipython3",
   "version": "3.9.2"
  }
 },
 "nbformat": 4,
 "nbformat_minor": 5
}
