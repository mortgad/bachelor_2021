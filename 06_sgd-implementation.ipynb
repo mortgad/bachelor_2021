{
  "nbformat": 4,
  "nbformat_minor": 5,
  "metadata": {
    "kernelspec": {
      "display_name": "Python 3 (ipykernel)",
      "language": "python",
      "name": "python3"
    },
    "language_info": {
      "codemirror_mode": {
        "name": "ipython",
        "version": 3
      },
      "file_extension": ".py",
      "mimetype": "text/x-python",
      "name": "python",
      "nbconvert_exporter": "python",
      "pygments_lexer": "ipython3",
      "version": "3.9.2"
    },
    "colab": {
      "name": "06_sgd-implementation.ipynb",
      "provenance": []
    }
  },
  "cells": [
    {
      "cell_type": "code",
      "metadata": {
        "id": "4e88c9a4"
      },
      "source": [
        "# Importing libraries\n",
        "import pandas as pd\n",
        "import matplotlib.pylab as plt\n",
        "import numpy as np\n",
        "## test\n",
        "\n",
        "# scikit learn packages \n",
        "from sklearn.feature_extraction.text import TfidfVectorizer # vectorizer\n",
        "from sklearn.model_selection import train_test_split # For splitting into test and train data\n",
        "from sklearn.linear_model import SGDClassifier # SGD classifier - better model for classification\n",
        "from sklearn.pipeline import Pipeline # Pipeline framework\n",
        "from sklearn.metrics import make_scorer, cohen_kappa_score\n",
        "from sklearn.model_selection import GridSearchCV, cross_validate # Library that allows optimization of hyperparameters"
      ],
      "id": "4e88c9a4",
      "execution_count": null,
      "outputs": []
    },
    {
      "cell_type": "code",
      "metadata": {
        "id": "77ed2d93"
      },
      "source": [
        "# Path to the data\n",
        "#data_ghelms = \"/Users/gustavhelms/Documents/Cognitive Science/5_semester/Bachelor/political_polarization/Folketinget-Scraping/data/folketinget_2019_2021_raw.csv\"\n",
        "data_mrg = \"./data/folketinget_2019_2021_raw.csv\"\n",
        "# Importing data - only a subset \n",
        "#df = pd.read_csv(data_ghelms)\n",
        "df = pd.read_csv(data_mrg)"
      ],
      "id": "77ed2d93",
      "execution_count": null,
      "outputs": []
    },
    {
      "cell_type": "code",
      "metadata": {
        "id": "5212b3b3",
        "outputId": "788d7338-030e-4f9b-e79a-2b2454e4dc17"
      },
      "source": [
        "df['Parti'].value_counts()"
      ],
      "id": "5212b3b3",
      "execution_count": null,
      "outputs": [
        {
          "data": {
            "text/plain": [
              "Socialdemokratiet              11194\n",
              "Venstre                         9737\n",
              "Dansk Folkeparti                8793\n",
              "Socialistisk Folkeparti         5496\n",
              "Enhedslisten                    5181\n",
              "Radikale Venstre                4044\n",
              "Nye Borgerlige                  3503\n",
              "Det Konservative Folkeparti     2361\n",
              "Alternativet                    2190\n",
              "Liberal Alliance                2150\n",
              "Socialdemokraterne               366\n",
              "Name: Parti, dtype: int64"
            ]
          },
          "execution_count": 6,
          "metadata": {},
          "output_type": "execute_result"
        }
      ]
    },
    {
      "cell_type": "markdown",
      "metadata": {
        "id": "66c676e1"
      },
      "source": [
        "# Implementing Pipeline"
      ],
      "id": "66c676e1"
    },
    {
      "cell_type": "code",
      "metadata": {
        "id": "7bfe4f71"
      },
      "source": [
        "df2020 = df[df['Year'] == 2020][:1000]"
      ],
      "id": "7bfe4f71",
      "execution_count": null,
      "outputs": []
    },
    {
      "cell_type": "code",
      "metadata": {
        "id": "e5353fa9"
      },
      "source": [
        "# Splitting data\n",
        "X, y = df2020['text'], df2020['Parti']\n",
        "X_train, X_test, y_train, y_test = train_test_split(X, y, test_size=0.10, random_state=42, stratify = df2020[\"Parti\"])"
      ],
      "id": "e5353fa9",
      "execution_count": null,
      "outputs": []
    },
    {
      "cell_type": "code",
      "metadata": {
        "id": "d8208d7c"
      },
      "source": [
        "pipe = Pipeline([\n",
        "('vect', TfidfVectorizer(ngram_range=(1,2))),\n",
        "('SGD', SGDClassifier(loss='log', \n",
        "                      penalty='l2', \n",
        "                      shuffle=True,\n",
        "                      alpha=1e-2,\n",
        "                      class_weight = 'balanced'))])\n",
        "\n",
        "grid = GridSearchCV(estimator = pipe,\n",
        "                        param_grid = {'SGD__alpha': (1e-2, 1e-3, 1e-4, 1e-5, 1e-6, 1e-7, 1e-8)},\n",
        "                        cv=20, # number of cross validations\n",
        "                        scoring={'kappa_score': make_scorer(cohen_kappa_score)},\n",
        "                        refit='kappa_score',\n",
        "                        n_jobs=2)"
      ],
      "id": "d8208d7c",
      "execution_count": null,
      "outputs": []
    },
    {
      "cell_type": "code",
      "metadata": {
        "id": "9b6b3e7a",
        "outputId": "6f337589-7300-4ee6-9b58-0e21c3519cdc"
      },
      "source": [
        "# fitting hyper parameters\n",
        "grid.fit(X_train, y_train)"
      ],
      "id": "9b6b3e7a",
      "execution_count": null,
      "outputs": [
        {
          "data": {
            "text/plain": [
              "GridSearchCV(cv=20,\n",
              "             estimator=Pipeline(steps=[('vect',\n",
              "                                        TfidfVectorizer(ngram_range=(1, 2))),\n",
              "                                       ('SGD',\n",
              "                                        SGDClassifier(alpha=0.01,\n",
              "                                                      class_weight='balanced',\n",
              "                                                      loss='log'))]),\n",
              "             n_jobs=2,\n",
              "             param_grid={'SGD__alpha': (0.01, 0.001, 0.0001, 1e-05, 1e-06,\n",
              "                                        1e-07, 1e-08)},\n",
              "             refit='kappa_score',\n",
              "             scoring={'kappa_score': make_scorer(cohen_kappa_score)})"
            ]
          },
          "execution_count": 52,
          "metadata": {},
          "output_type": "execute_result"
        }
      ]
    },
    {
      "cell_type": "code",
      "metadata": {
        "id": "7bfe5479",
        "outputId": "6db35917-b9ac-4cc3-b1b7-e8d7b5645a2a"
      },
      "source": [
        "# Confusion matrix\n",
        "from sklearn.metrics import confusion_matrix\n",
        "import seaborn as sn\n",
        "\n",
        "y_pred = grid.predict(X_test)# documentation says the best model is used for prediction\n",
        "cm = confusion_matrix(y_test, y_pred)\n",
        "\n",
        "plt.figure(figsize = (10,7))\n",
        "sn.heatmap(cm, annot=True)\n",
        "plt.xlabel('Predicted')\n",
        "plt.ylabel('Truth')"
      ],
      "id": "7bfe5479",
      "execution_count": null,
      "outputs": [
        {
          "data": {
            "text/plain": [
              "Text(69.0, 0.5, 'Truth')"
            ]
          },
          "execution_count": 53,
          "metadata": {},
          "output_type": "execute_result"
        },
        {
          "data": {
            "image/png": "[encoded data removed]",
            "text/plain": [
              "<Figure size 720x504 with 2 Axes>"
            ]
          },
          "metadata": {
            "needs_background": "light"
          },
          "output_type": "display_data"
        }
      ]
    },
    {
      "cell_type": "code",
      "metadata": {
        "id": "d049e983",
        "outputId": "0729eb60-4828-4a3b-d224-381edecc2651"
      },
      "source": [
        "# inspect results\n",
        "results = pd.DataFrame(grid.cv_results_)\n",
        "results"
      ],
      "id": "d049e983",
      "execution_count": null,
      "outputs": [
        {
          "data": {
            "text/html": [
              "<div>\n",
              "<style scoped>\n",
              "    .dataframe tbody tr th:only-of-type {\n",
              "        vertical-align: middle;\n",
              "    }\n",
              "\n",
              "    .dataframe tbody tr th {\n",
              "        vertical-align: top;\n",
              "    }\n",
              "\n",
              "    .dataframe thead th {\n",
              "        text-align: right;\n",
              "    }\n",
              "</style>\n",
              "<table border=\"1\" class=\"dataframe\">\n",
              "  <thead>\n",
              "    <tr style=\"text-align: right;\">\n",
              "      <th></th>\n",
              "      <th>mean_fit_time</th>\n",
              "      <th>std_fit_time</th>\n",
              "      <th>mean_score_time</th>\n",
              "      <th>std_score_time</th>\n",
              "      <th>param_SGD__alpha</th>\n",
              "      <th>params</th>\n",
              "      <th>split0_test_kappa_score</th>\n",
              "      <th>split1_test_kappa_score</th>\n",
              "      <th>split2_test_kappa_score</th>\n",
              "      <th>split3_test_kappa_score</th>\n",
              "      <th>...</th>\n",
              "      <th>split13_test_kappa_score</th>\n",
              "      <th>split14_test_kappa_score</th>\n",
              "      <th>split15_test_kappa_score</th>\n",
              "      <th>split16_test_kappa_score</th>\n",
              "      <th>split17_test_kappa_score</th>\n",
              "      <th>split18_test_kappa_score</th>\n",
              "      <th>split19_test_kappa_score</th>\n",
              "      <th>mean_test_kappa_score</th>\n",
              "      <th>std_test_kappa_score</th>\n",
              "      <th>rank_test_kappa_score</th>\n",
              "    </tr>\n",
              "  </thead>\n",
              "  <tbody>\n",
              "    <tr>\n",
              "      <th>0</th>\n",
              "      <td>0.619437</td>\n",
              "      <td>0.027870</td>\n",
              "      <td>0.029886</td>\n",
              "      <td>0.003645</td>\n",
              "      <td>0.01</td>\n",
              "      <td>{'SGD__alpha': 0.01}</td>\n",
              "      <td>0.411765</td>\n",
              "      <td>0.387097</td>\n",
              "      <td>0.387097</td>\n",
              "      <td>0.387097</td>\n",
              "      <td>...</td>\n",
              "      <td>0.419355</td>\n",
              "      <td>0.487544</td>\n",
              "      <td>0.375000</td>\n",
              "      <td>0.475219</td>\n",
              "      <td>0.487909</td>\n",
              "      <td>0.391892</td>\n",
              "      <td>0.451613</td>\n",
              "      <td>0.423813</td>\n",
              "      <td>0.038005</td>\n",
              "      <td>7</td>\n",
              "    </tr>\n",
              "    <tr>\n",
              "      <th>1</th>\n",
              "      <td>0.616764</td>\n",
              "      <td>0.034403</td>\n",
              "      <td>0.030649</td>\n",
              "      <td>0.003272</td>\n",
              "      <td>0.001</td>\n",
              "      <td>{'SGD__alpha': 0.001}</td>\n",
              "      <td>0.818792</td>\n",
              "      <td>0.629121</td>\n",
              "      <td>0.627843</td>\n",
              "      <td>0.758713</td>\n",
              "      <td>...</td>\n",
              "      <td>0.694293</td>\n",
              "      <td>0.911591</td>\n",
              "      <td>0.692833</td>\n",
              "      <td>0.817073</td>\n",
              "      <td>0.819519</td>\n",
              "      <td>0.757902</td>\n",
              "      <td>0.788591</td>\n",
              "      <td>0.748879</td>\n",
              "      <td>0.083216</td>\n",
              "      <td>6</td>\n",
              "    </tr>\n",
              "    <tr>\n",
              "      <th>2</th>\n",
              "      <td>0.557526</td>\n",
              "      <td>0.023804</td>\n",
              "      <td>0.029888</td>\n",
              "      <td>0.003124</td>\n",
              "      <td>0.0001</td>\n",
              "      <td>{'SGD__alpha': 0.0001}</td>\n",
              "      <td>0.818792</td>\n",
              "      <td>0.727640</td>\n",
              "      <td>0.724114</td>\n",
              "      <td>0.853229</td>\n",
              "      <td>...</td>\n",
              "      <td>0.820717</td>\n",
              "      <td>0.883495</td>\n",
              "      <td>0.756098</td>\n",
              "      <td>0.879599</td>\n",
              "      <td>0.850697</td>\n",
              "      <td>0.757902</td>\n",
              "      <td>0.820000</td>\n",
              "      <td>0.795149</td>\n",
              "      <td>0.074550</td>\n",
              "      <td>5</td>\n",
              "    </tr>\n",
              "    <tr>\n",
              "      <th>3</th>\n",
              "      <td>0.580858</td>\n",
              "      <td>0.034602</td>\n",
              "      <td>0.030499</td>\n",
              "      <td>0.003133</td>\n",
              "      <td>0.00001</td>\n",
              "      <td>{'SGD__alpha': 1e-05}</td>\n",
              "      <td>0.850100</td>\n",
              "      <td>0.727640</td>\n",
              "      <td>0.756263</td>\n",
              "      <td>0.853229</td>\n",
              "      <td>...</td>\n",
              "      <td>0.821074</td>\n",
              "      <td>0.882889</td>\n",
              "      <td>0.756098</td>\n",
              "      <td>0.910477</td>\n",
              "      <td>0.850697</td>\n",
              "      <td>0.757902</td>\n",
              "      <td>0.791667</td>\n",
              "      <td>0.808170</td>\n",
              "      <td>0.064445</td>\n",
              "      <td>4</td>\n",
              "    </tr>\n",
              "    <tr>\n",
              "      <th>4</th>\n",
              "      <td>0.550474</td>\n",
              "      <td>0.019772</td>\n",
              "      <td>0.028507</td>\n",
              "      <td>0.002933</td>\n",
              "      <td>0.000001</td>\n",
              "      <td>{'SGD__alpha': 1e-06}</td>\n",
              "      <td>0.880874</td>\n",
              "      <td>0.762062</td>\n",
              "      <td>0.881266</td>\n",
              "      <td>0.971098</td>\n",
              "      <td>...</td>\n",
              "      <td>0.853801</td>\n",
              "      <td>0.913295</td>\n",
              "      <td>0.851190</td>\n",
              "      <td>0.910950</td>\n",
              "      <td>0.941823</td>\n",
              "      <td>0.882276</td>\n",
              "      <td>0.882889</td>\n",
              "      <td>0.876460</td>\n",
              "      <td>0.049652</td>\n",
              "      <td>1</td>\n",
              "    </tr>\n",
              "    <tr>\n",
              "      <th>5</th>\n",
              "      <td>0.561683</td>\n",
              "      <td>0.019226</td>\n",
              "      <td>0.030212</td>\n",
              "      <td>0.003837</td>\n",
              "      <td>0.0</td>\n",
              "      <td>{'SGD__alpha': 1e-07}</td>\n",
              "      <td>0.793307</td>\n",
              "      <td>0.790975</td>\n",
              "      <td>0.853896</td>\n",
              "      <td>0.942122</td>\n",
              "      <td>...</td>\n",
              "      <td>0.854932</td>\n",
              "      <td>0.827806</td>\n",
              "      <td>0.762219</td>\n",
              "      <td>0.940633</td>\n",
              "      <td>0.941406</td>\n",
              "      <td>0.882276</td>\n",
              "      <td>0.825130</td>\n",
              "      <td>0.855339</td>\n",
              "      <td>0.054978</td>\n",
              "      <td>2</td>\n",
              "    </tr>\n",
              "    <tr>\n",
              "      <th>6</th>\n",
              "      <td>0.554028</td>\n",
              "      <td>0.015042</td>\n",
              "      <td>0.029042</td>\n",
              "      <td>0.003378</td>\n",
              "      <td>0.0</td>\n",
              "      <td>{'SGD__alpha': 1e-08}</td>\n",
              "      <td>0.852265</td>\n",
              "      <td>0.793307</td>\n",
              "      <td>0.789720</td>\n",
              "      <td>0.855862</td>\n",
              "      <td>...</td>\n",
              "      <td>0.854932</td>\n",
              "      <td>0.884689</td>\n",
              "      <td>0.737694</td>\n",
              "      <td>0.910596</td>\n",
              "      <td>0.880795</td>\n",
              "      <td>0.884615</td>\n",
              "      <td>0.798335</td>\n",
              "      <td>0.844369</td>\n",
              "      <td>0.049263</td>\n",
              "      <td>3</td>\n",
              "    </tr>\n",
              "  </tbody>\n",
              "</table>\n",
              "<p>7 rows × 29 columns</p>\n",
              "</div>"
            ],
            "text/plain": [
              "   mean_fit_time  std_fit_time  mean_score_time  std_score_time  \\\n",
              "0       0.619437      0.027870         0.029886        0.003645   \n",
              "1       0.616764      0.034403         0.030649        0.003272   \n",
              "2       0.557526      0.023804         0.029888        0.003124   \n",
              "3       0.580858      0.034602         0.030499        0.003133   \n",
              "4       0.550474      0.019772         0.028507        0.002933   \n",
              "5       0.561683      0.019226         0.030212        0.003837   \n",
              "6       0.554028      0.015042         0.029042        0.003378   \n",
              "\n",
              "  param_SGD__alpha                  params  split0_test_kappa_score  \\\n",
              "0             0.01    {'SGD__alpha': 0.01}                 0.411765   \n",
              "1            0.001   {'SGD__alpha': 0.001}                 0.818792   \n",
              "2           0.0001  {'SGD__alpha': 0.0001}                 0.818792   \n",
              "3          0.00001   {'SGD__alpha': 1e-05}                 0.850100   \n",
              "4         0.000001   {'SGD__alpha': 1e-06}                 0.880874   \n",
              "5              0.0   {'SGD__alpha': 1e-07}                 0.793307   \n",
              "6              0.0   {'SGD__alpha': 1e-08}                 0.852265   \n",
              "\n",
              "   split1_test_kappa_score  split2_test_kappa_score  split3_test_kappa_score  \\\n",
              "0                 0.387097                 0.387097                 0.387097   \n",
              "1                 0.629121                 0.627843                 0.758713   \n",
              "2                 0.727640                 0.724114                 0.853229   \n",
              "3                 0.727640                 0.756263                 0.853229   \n",
              "4                 0.762062                 0.881266                 0.971098   \n",
              "5                 0.790975                 0.853896                 0.942122   \n",
              "6                 0.793307                 0.789720                 0.855862   \n",
              "\n",
              "   ...  split13_test_kappa_score  split14_test_kappa_score  \\\n",
              "0  ...                  0.419355                  0.487544   \n",
              "1  ...                  0.694293                  0.911591   \n",
              "2  ...                  0.820717                  0.883495   \n",
              "3  ...                  0.821074                  0.882889   \n",
              "4  ...                  0.853801                  0.913295   \n",
              "5  ...                  0.854932                  0.827806   \n",
              "6  ...                  0.854932                  0.884689   \n",
              "\n",
              "   split15_test_kappa_score  split16_test_kappa_score  \\\n",
              "0                  0.375000                  0.475219   \n",
              "1                  0.692833                  0.817073   \n",
              "2                  0.756098                  0.879599   \n",
              "3                  0.756098                  0.910477   \n",
              "4                  0.851190                  0.910950   \n",
              "5                  0.762219                  0.940633   \n",
              "6                  0.737694                  0.910596   \n",
              "\n",
              "   split17_test_kappa_score  split18_test_kappa_score  \\\n",
              "0                  0.487909                  0.391892   \n",
              "1                  0.819519                  0.757902   \n",
              "2                  0.850697                  0.757902   \n",
              "3                  0.850697                  0.757902   \n",
              "4                  0.941823                  0.882276   \n",
              "5                  0.941406                  0.882276   \n",
              "6                  0.880795                  0.884615   \n",
              "\n",
              "   split19_test_kappa_score  mean_test_kappa_score  std_test_kappa_score  \\\n",
              "0                  0.451613               0.423813              0.038005   \n",
              "1                  0.788591               0.748879              0.083216   \n",
              "2                  0.820000               0.795149              0.074550   \n",
              "3                  0.791667               0.808170              0.064445   \n",
              "4                  0.882889               0.876460              0.049652   \n",
              "5                  0.825130               0.855339              0.054978   \n",
              "6                  0.798335               0.844369              0.049263   \n",
              "\n",
              "   rank_test_kappa_score  \n",
              "0                      7  \n",
              "1                      6  \n",
              "2                      5  \n",
              "3                      4  \n",
              "4                      1  \n",
              "5                      2  \n",
              "6                      3  \n",
              "\n",
              "[7 rows x 29 columns]"
            ]
          },
          "execution_count": 54,
          "metadata": {},
          "output_type": "execute_result"
        }
      ]
    },
    {
      "cell_type": "code",
      "metadata": {
        "id": "adeef58e",
        "outputId": "36c65107-d816-4659-8488-de2867547405"
      },
      "source": [
        "set(df['Parti'])"
      ],
      "id": "adeef58e",
      "execution_count": null,
      "outputs": [
        {
          "data": {
            "text/plain": [
              "{'Alternativet',\n",
              " 'Dansk Folkeparti',\n",
              " 'Det Konservative Folkeparti',\n",
              " 'Enhedslisten',\n",
              " 'Liberal Alliance',\n",
              " 'Nye Borgerlige',\n",
              " 'Radikale Venstre',\n",
              " 'Socialdemokraterne',\n",
              " 'Socialdemokratiet',\n",
              " 'Socialistisk Folkeparti',\n",
              " 'Venstre'}"
            ]
          },
          "execution_count": 59,
          "metadata": {},
          "output_type": "execute_result"
        }
      ]
    },
    {
      "cell_type": "code",
      "metadata": {
        "id": "28e1b9c3"
      },
      "source": [
        "# loop through years and fit/predict per year, append scores and so on\n",
        "\n",
        "best_scores = []\n",
        "best_params = []\n",
        "precision_scores = []\n",
        "accuracy_scores = []\n",
        "\n",
        "for year in df.Year.unique():\n",
        "    subset = df[df['Year'] == year][:1000]\n",
        "    X, y = subset[\"text\"], subset[\"Parti\"]\n",
        "    X_train, X_test, y_train, y_test = train_test_split(X, y, test_size=0.10, random_state=42, stratify = subset[\"Parti\"])\n",
        "    grid_SGD.fit(X_train, y_train)\n",
        "    df_train = pd.DataFrame(grid_SGD.cv_results_)\n",
        "    plt.legend()\n",
        "    \n",
        "    # save best kappa score and params generating that score\n",
        "    best_scores.append(grid_SGD.best_score_)\n",
        "    best_params.append(grid_SGD.best_params_)\n",
        "    \n",
        "    # metrics on test set\n",
        "    y_pred = grid_SGD.predict(X_test)\n",
        "    accuracy_scores.append(accuracy_score(y_test, y_pred))\n",
        "    precision_scores.append(precision_score(y_test, y_pred, average='weighted'))"
      ],
      "id": "28e1b9c3",
      "execution_count": null,
      "outputs": []
    },
    {
      "cell_type": "code",
      "metadata": {
        "id": "a8f6b271"
      },
      "source": [
        ""
      ],
      "id": "a8f6b271",
      "execution_count": null,
      "outputs": []
    },
    {
      "cell_type": "code",
      "metadata": {
        "id": "0ab2467e"
      },
      "source": [
        ""
      ],
      "id": "0ab2467e",
      "execution_count": null,
      "outputs": []
    },
    {
      "cell_type": "code",
      "metadata": {
        "id": "dd353910"
      },
      "source": [
        ""
      ],
      "id": "dd353910",
      "execution_count": null,
      "outputs": []
    },
    {
      "cell_type": "code",
      "metadata": {
        "id": "86140669"
      },
      "source": [
        ""
      ],
      "id": "86140669",
      "execution_count": null,
      "outputs": []
    },
    {
      "cell_type": "code",
      "metadata": {
        "id": "e987cb00"
      },
      "source": [
        ""
      ],
      "id": "e987cb00",
      "execution_count": null,
      "outputs": []
    }
  ]
}